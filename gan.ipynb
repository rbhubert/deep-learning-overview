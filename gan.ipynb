{
  "cells": [
    {
      "cell_type": "markdown",
      "id": "8a4858b0",
      "metadata": {
        "id": "8a4858b0"
      },
      "source": [
        "# Generative Adversarial Networks Project\n",
        "\n",
        "#### For the course Complete Tensorflow 2 and Keras Deeplearning Bootcamp"
      ]
    },
    {
      "cell_type": "code",
      "execution_count": 1,
      "id": "f9e421c3",
      "metadata": {
        "id": "f9e421c3"
      },
      "outputs": [],
      "source": [
        "# Imports\n",
        "\n",
        "import pandas as pd\n",
        "import numpy as np\n",
        "import matplotlib.pyplot as plt"
      ]
    },
    {
      "cell_type": "code",
      "execution_count": 2,
      "id": "b369d755",
      "metadata": {
        "id": "b369d755"
      },
      "outputs": [],
      "source": [
        "# Data to be used\n",
        "from tensorflow.keras.datasets import mnist\n",
        "\n",
        "(X_train, y_train), (X_test, y_test) = mnist.load_data()"
      ]
    },
    {
      "cell_type": "code",
      "execution_count": 3,
      "id": "c012a809",
      "metadata": {
        "id": "c012a809",
        "outputId": "0d4ae89f-c741-41b0-d58f-b7c7905db5da",
        "colab": {
          "base_uri": "https://localhost:8080/",
          "height": 265
        }
      },
      "outputs": [
        {
          "output_type": "display_data",
          "data": {
            "text/plain": [
              "<Figure size 432x288 with 1 Axes>"
            ],
            "image/png": "[encoded data removed]"
          },
          "metadata": {
            "needs_background": "light"
          }
        }
      ],
      "source": [
        "# Showing an image\n",
        "plt.imshow(X_train[0]);"
      ]
    },
    {
      "cell_type": "code",
      "execution_count": 4,
      "id": "9e9de3a5",
      "metadata": {
        "id": "9e9de3a5",
        "outputId": "c060534a-fb02-4d24-8c84-0e70fb7b7eb1",
        "colab": {
          "base_uri": "https://localhost:8080/"
        }
      },
      "outputs": [
        {
          "output_type": "execute_result",
          "data": {
            "text/plain": [
              "array([5, 0, 4, ..., 5, 6, 8], dtype=uint8)"
            ]
          },
          "metadata": {},
          "execution_count": 4
        }
      ],
      "source": [
        "# How is the y_train\n",
        "y_train"
      ]
    },
    {
      "cell_type": "markdown",
      "id": "de51cb6f",
      "metadata": {
        "id": "de51cb6f"
      },
      "source": [
        "### Filtering out the Data for Faster Training on Smaller Dataset\n",
        "\n",
        "We will use only the zeros for training."
      ]
    },
    {
      "cell_type": "code",
      "execution_count": 5,
      "id": "8c620be2",
      "metadata": {
        "id": "8c620be2",
        "outputId": "621bbf79-5c6a-4ac0-f7be-2a4cc9d11055",
        "colab": {
          "base_uri": "https://localhost:8080/"
        }
      },
      "outputs": [
        {
          "output_type": "execute_result",
          "data": {
            "text/plain": [
              "(5923, 28, 28)"
            ]
          },
          "metadata": {},
          "execution_count": 5
        }
      ],
      "source": [
        "only_zeros = X_train[y_train == 0]\n",
        "only_zeros.shape # we have 5923 images of 28x28"
      ]
    },
    {
      "cell_type": "code",
      "execution_count": 6,
      "id": "49f4968d",
      "metadata": {
        "id": "49f4968d",
        "outputId": "21a6576b-6ca4-4b3b-da48-6ce66af5aba8",
        "colab": {
          "base_uri": "https://localhost:8080/",
          "height": 265
        }
      },
      "outputs": [
        {
          "output_type": "display_data",
          "data": {
            "text/plain": [
              "<Figure size 432x288 with 1 Axes>"
            ],
            "image/png": "[encoded data removed]"
          },
          "metadata": {
            "needs_background": "light"
          }
        }
      ],
      "source": [
        "plt.imshow(only_zeros[555]);"
      ]
    },
    {
      "cell_type": "markdown",
      "id": "ca9141d6",
      "metadata": {
        "id": "ca9141d6"
      },
      "source": [
        "## Creating the model"
      ]
    },
    {
      "cell_type": "code",
      "execution_count": 7,
      "id": "b8581633",
      "metadata": {
        "id": "b8581633"
      },
      "outputs": [],
      "source": [
        "import tensorflow as tf\n",
        "from tensorflow.keras.models import Sequential\n",
        "from tensorflow.keras.layers import Dense, Reshape, Flatten"
      ]
    },
    {
      "cell_type": "code",
      "execution_count": 8,
      "id": "852ca8c5",
      "metadata": {
        "id": "852ca8c5"
      },
      "outputs": [],
      "source": [
        "np.random.seed(42)\n",
        "tf.random.set_seed(42)\n",
        "\n",
        "codings_size = 100"
      ]
    },
    {
      "cell_type": "code",
      "execution_count": 9,
      "id": "b9e75b17",
      "metadata": {
        "id": "b9e75b17"
      },
      "outputs": [],
      "source": [
        "# Creation of the generator\n",
        "generator = Sequential()\n",
        "\n",
        "# dense layers\n",
        "generator.add(Dense(100, activation=\"relu\", input_shape=[codings_size]))\n",
        "# 100 --> 150\n",
        "generator.add(Dense(150, activation='relu'))\n",
        "# 150 --> 784\n",
        "generator.add(Dense(784, activation=\"sigmoid\")) # 28*28 = 784\n",
        "\n",
        "# reshape layer\n",
        "generator.add(Reshape([28, 28])) # output => image ----- our discriminator expects this image"
      ]
    },
    {
      "cell_type": "code",
      "execution_count": 10,
      "id": "7ab8302c",
      "metadata": {
        "id": "7ab8302c"
      },
      "outputs": [],
      "source": [
        "# Creation of the discriminator\n",
        "discriminator = Sequential()\n",
        "\n",
        "# Flatten the image 28*28 = 784\n",
        "discriminator.add(Flatten(input_shape=[28,28]))\n",
        "# 784 --> 150\n",
        "discriminator.add(Dense(150, activation='relu'))\n",
        "# 150 --> 100\n",
        "discriminator.add(Dense(100, activation='relu'))\n",
        "# 100 --> 1\n",
        "discriminator.add(Dense(1, activation=\"sigmoid\")) # output layer: is a valid image or not\n",
        "\n",
        "# We compile the discriminator but not the generator\n",
        "discriminator.compile(loss=\"binary_crossentropy\", optimizer=\"adam\")"
      ]
    },
    {
      "cell_type": "code",
      "execution_count": 11,
      "id": "1f811c4e",
      "metadata": {
        "id": "1f811c4e"
      },
      "outputs": [],
      "source": [
        "# Creation of the GAN model\n",
        "GAN = Sequential([generator, discriminator])"
      ]
    },
    {
      "cell_type": "code",
      "execution_count": 12,
      "id": "ec9342b2",
      "metadata": {
        "id": "ec9342b2"
      },
      "outputs": [],
      "source": [
        "# We don't want to train \n",
        "discriminator.trainable = False \n",
        "\n",
        "# Compilation of GAN\n",
        "GAN.compile(loss=\"binary_crossentropy\", optimizer=\"adam\")"
      ]
    },
    {
      "cell_type": "code",
      "execution_count": 13,
      "id": "cfc185a0",
      "metadata": {
        "id": "cfc185a0",
        "outputId": "4c8604ff-39c6-4ebd-c076-0d7a05f77161",
        "colab": {
          "base_uri": "https://localhost:8080/"
        }
      },
      "outputs": [
        {
          "output_type": "execute_result",
          "data": {
            "text/plain": [
              "[<keras.engine.sequential.Sequential at 0x7ff479fbcd10>,\n",
              " <keras.engine.sequential.Sequential at 0x7ff470308f90>]"
            ]
          },
          "metadata": {},
          "execution_count": 13
        }
      ],
      "source": [
        "GAN.layers"
      ]
    },
    {
      "cell_type": "code",
      "execution_count": 14,
      "id": "f4e510fa",
      "metadata": {
        "id": "f4e510fa",
        "outputId": "5b91df8c-8cbf-4e8d-f624-769f64f95ba4",
        "colab": {
          "base_uri": "https://localhost:8080/"
        }
      },
      "outputs": [
        {
          "output_type": "stream",
          "name": "stdout",
          "text": [
            "Model: \"sequential_2\"\n",
            "_________________________________________________________________\n",
            " Layer (type)                Output Shape              Param #   \n",
            "=================================================================\n",
            " sequential (Sequential)     (None, 28, 28)            143634    \n",
            "                                                                 \n",
            " sequential_1 (Sequential)   (None, 1)                 132951    \n",
            "                                                                 \n",
            "=================================================================\n",
            "Total params: 276,585\n",
            "Trainable params: 143,634\n",
            "Non-trainable params: 132,951\n",
            "_________________________________________________________________\n"
          ]
        }
      ],
      "source": [
        "GAN.summary()"
      ]
    },
    {
      "cell_type": "code",
      "execution_count": 15,
      "id": "52e780b9",
      "metadata": {
        "id": "52e780b9",
        "outputId": "e71468e5-b150-4597-d49f-11c725757c57",
        "colab": {
          "base_uri": "https://localhost:8080/"
        }
      },
      "outputs": [
        {
          "output_type": "stream",
          "name": "stdout",
          "text": [
            "Model: \"sequential\"\n",
            "_________________________________________________________________\n",
            " Layer (type)                Output Shape              Param #   \n",
            "=================================================================\n",
            " dense (Dense)               (None, 100)               10100     \n",
            "                                                                 \n",
            " dense_1 (Dense)             (None, 150)               15150     \n",
            "                                                                 \n",
            " dense_2 (Dense)             (None, 784)               118384    \n",
            "                                                                 \n",
            " reshape (Reshape)           (None, 28, 28)            0         \n",
            "                                                                 \n",
            "=================================================================\n",
            "Total params: 143,634\n",
            "Trainable params: 143,634\n",
            "Non-trainable params: 0\n",
            "_________________________________________________________________\n"
          ]
        }
      ],
      "source": [
        "GAN.layers[0].summary()"
      ]
    },
    {
      "cell_type": "code",
      "execution_count": 16,
      "id": "e7512bd6",
      "metadata": {
        "id": "e7512bd6",
        "outputId": "3f603371-7793-45bf-c424-0b7f295db6a0",
        "colab": {
          "base_uri": "https://localhost:8080/"
        }
      },
      "outputs": [
        {
          "output_type": "stream",
          "name": "stdout",
          "text": [
            "Model: \"sequential_1\"\n",
            "_________________________________________________________________\n",
            " Layer (type)                Output Shape              Param #   \n",
            "=================================================================\n",
            " flatten (Flatten)           (None, 784)               0         \n",
            "                                                                 \n",
            " dense_3 (Dense)             (None, 150)               117750    \n",
            "                                                                 \n",
            " dense_4 (Dense)             (None, 100)               15100     \n",
            "                                                                 \n",
            " dense_5 (Dense)             (None, 1)                 101       \n",
            "                                                                 \n",
            "=================================================================\n",
            "Total params: 132,951\n",
            "Trainable params: 0\n",
            "Non-trainable params: 132,951\n",
            "_________________________________________________________________\n"
          ]
        }
      ],
      "source": [
        "GAN.layers[1].summary()"
      ]
    },
    {
      "cell_type": "markdown",
      "id": "949bb6d9",
      "metadata": {
        "id": "949bb6d9"
      },
      "source": [
        "### Setting up Training Batches"
      ]
    },
    {
      "cell_type": "code",
      "execution_count": 17,
      "id": "fbe4e690",
      "metadata": {
        "id": "fbe4e690",
        "outputId": "38425c48-8a6f-495e-e276-0d98b298cbc7",
        "colab": {
          "base_uri": "https://localhost:8080/"
        }
      },
      "outputs": [
        {
          "output_type": "execute_result",
          "data": {
            "text/plain": [
              "tensorflow.python.data.ops.dataset_ops.ShuffleDataset"
            ]
          },
          "metadata": {},
          "execution_count": 17
        }
      ],
      "source": [
        "import tensorflow as tf\n",
        "\n",
        "batch_size = 32\n",
        "\n",
        "dataset = tf.data.Dataset.from_tensor_slices(only_zeros).shuffle(buffer_size=1000)\n",
        "type(dataset)"
      ]
    },
    {
      "cell_type": "code",
      "execution_count": 18,
      "id": "05675b01",
      "metadata": {
        "id": "05675b01"
      },
      "outputs": [],
      "source": [
        "dataset = dataset.batch(batch_size, drop_remainder=True).prefetch(1)"
      ]
    },
    {
      "cell_type": "markdown",
      "id": "f74e6bc2",
      "metadata": {
        "id": "f74e6bc2"
      },
      "source": [
        "## Training the model"
      ]
    },
    {
      "cell_type": "code",
      "execution_count": 19,
      "id": "8b5a7f60",
      "metadata": {
        "id": "8b5a7f60",
        "outputId": "457d1ac8-c8ee-4052-aaac-94c57224f628",
        "colab": {
          "base_uri": "https://localhost:8080/"
        }
      },
      "outputs": [
        {
          "output_type": "stream",
          "name": "stdout",
          "text": [
            "Epoch #1\n",
            "\t Currently on batch number 100 of 185\n",
            "Epoch #2\n",
            "\t Currently on batch number 100 of 185\n",
            "Epoch #3\n",
            "\t Currently on batch number 100 of 185\n",
            "Epoch #4\n",
            "\t Currently on batch number 100 of 185\n",
            "Epoch #5\n",
            "\t Currently on batch number 100 of 185\n",
            "Epoch #6\n",
            "\t Currently on batch number 100 of 185\n",
            "--- Complete ---\n"
          ]
        }
      ],
      "source": [
        "epochs = 6\n",
        "\n",
        "# Separate components\n",
        "generator, discriminator = GAN.layers\n",
        "\n",
        "# For every epoch\n",
        "for epoch in range(epochs):\n",
        "    print(f\"Epoch #{epoch + 1}\")\n",
        "    i = 0\n",
        "    \n",
        "    # For every batch in the dataset\n",
        "    for X_batch in dataset:\n",
        "        i = i + 1\n",
        "        if i % 100 == 0:\n",
        "            print(f\"\\t Currently on batch number {i} of {len(only_zeros) // batch_size}\")\n",
        "\n",
        "        ## TRAINING THE DISCRIMINATOR\n",
        "        \n",
        "        # Create noise\n",
        "        # tf.random.normal -> outputs a tensor of the given shape filled with values of the dtype type from a normal distribution\n",
        "        noise = tf.random.normal(shape=[batch_size, codings_size])\n",
        "        \n",
        "        # Generate numbers based just on noise input\n",
        "        gen_images = generator(noise)\n",
        "        \n",
        "        # Concatenate generated images against the real ones\n",
        "        X_fake_vs_real = tf.concat([gen_images, tf.dtypes.cast(X_batch, tf.float32)], axis=0)\n",
        "        \n",
        "        # Targets set to zero for fake images and 1 for real images\n",
        "        y1 = tf.constant([[0.]] * batch_size + [[1.]] * batch_size)\n",
        "        \n",
        "        discriminator.trainable = True    # this gets rid of a keras warning\n",
        "        \n",
        "        # Train the discriminator on this batch\n",
        "        discriminator.train_on_batch(X_fake_vs_real, y1)\n",
        "        \n",
        "        ## TRAINING THE GENERATOR \n",
        "        \n",
        "        # Create some noise\n",
        "        noise = tf.random.normal(shape=[batch_size, codings_size])\n",
        "        \n",
        "        # We want discriminator to believe that fake images are real, so we give them value 1\n",
        "        y2 = tf.constant([[1.]] * batch_size)\n",
        "        \n",
        "        # Avois a warning\n",
        "        discriminator.trainable = False\n",
        "        \n",
        "        GAN.train_on_batch(noise, y2)\n",
        "        \n",
        "print(\"--- Complete ---\")   "
      ]
    },
    {
      "cell_type": "code",
      "execution_count": 20,
      "id": "8e09ae13",
      "metadata": {
        "id": "8e09ae13",
        "outputId": "8b888db0-39b8-47f2-f4c7-df8800d27d85",
        "colab": {
          "base_uri": "https://localhost:8080/"
        }
      },
      "outputs": [
        {
          "output_type": "execute_result",
          "data": {
            "text/plain": [
              "TensorShape([10, 100])"
            ]
          },
          "metadata": {},
          "execution_count": 20
        }
      ],
      "source": [
        "# Example of noise\n",
        "noise = tf.random.normal(shape=[10, codings_size])\n",
        "noise.shape"
      ]
    },
    {
      "cell_type": "code",
      "execution_count": 21,
      "id": "6dcebc74",
      "metadata": {
        "id": "6dcebc74",
        "outputId": "0797fd06-7877-4e1b-ad8d-3cf49ade6b36",
        "colab": {
          "base_uri": "https://localhost:8080/",
          "height": 84
        }
      },
      "outputs": [
        {
          "output_type": "display_data",
          "data": {
            "text/plain": [
              "<Figure size 432x288 with 1 Axes>"
            ],
            "image/png": "[encoded data removed]"
          },
          "metadata": {
            "needs_background": "light"
          }
        }
      ],
      "source": [
        "plt.imshow(noise);"
      ]
    },
    {
      "cell_type": "code",
      "execution_count": 22,
      "id": "ba33ca51",
      "metadata": {
        "id": "ba33ca51",
        "outputId": "6297b562-6722-42b0-972c-1fbe5125c3b6",
        "colab": {
          "base_uri": "https://localhost:8080/"
        }
      },
      "outputs": [
        {
          "output_type": "execute_result",
          "data": {
            "text/plain": [
              "28"
            ]
          },
          "metadata": {},
          "execution_count": 22
        }
      ],
      "source": [
        "images = generator(noise)\n",
        "len(images)\n",
        "len(images[5])"
      ]
    },
    {
      "cell_type": "code",
      "execution_count": 23,
      "id": "33d2d91b",
      "metadata": {
        "id": "33d2d91b",
        "outputId": "898af910-210f-4eb9-d933-bd3c6cb11994",
        "colab": {
          "base_uri": "https://localhost:8080/",
          "height": 265
        }
      },
      "outputs": [
        {
          "output_type": "display_data",
          "data": {
            "text/plain": [
              "<Figure size 432x288 with 1 Axes>"
            ],
            "image/png": "[encoded data removed]"
          },
          "metadata": {
            "needs_background": "light"
          }
        }
      ],
      "source": [
        "plt.imshow(images[5].numpy().reshape(28,28));"
      ]
    },
    {
      "cell_type": "markdown",
      "id": "67bf5cd1",
      "metadata": {
        "id": "67bf5cd1"
      },
      "source": [
        "# Now let's use Convolutional Layers"
      ]
    },
    {
      "cell_type": "code",
      "execution_count": 24,
      "id": "f49958d9",
      "metadata": {
        "id": "f49958d9"
      },
      "outputs": [],
      "source": [
        "# Data\n",
        "(X_train, y_train), (X_test, y_test) = mnist.load_data()"
      ]
    },
    {
      "cell_type": "code",
      "execution_count": 25,
      "id": "6de6eeed",
      "metadata": {
        "id": "6de6eeed"
      },
      "outputs": [],
      "source": [
        "### Reshape and rescale images for DCGAN (Deep Convolutional GAN)\n",
        "\n",
        "# Since our generator will use tanh activation function for the last layer, we want to reshape X_train to be between -1 and 1\n",
        "# (as tanh function)\n",
        "\n",
        "X_train = X_train / X_train.max()\n",
        "X_train = X_train.reshape(-1, 28, 28, 1) * 2. - 1"
      ]
    },
    {
      "cell_type": "code",
      "execution_count": 26,
      "id": "f54e1803",
      "metadata": {
        "id": "f54e1803",
        "outputId": "aa3ec850-0ff1-4524-aa2f-59018d40b622",
        "colab": {
          "base_uri": "https://localhost:8080/"
        }
      },
      "outputs": [
        {
          "output_type": "execute_result",
          "data": {
            "text/plain": [
              "-1.0"
            ]
          },
          "metadata": {},
          "execution_count": 26
        }
      ],
      "source": [
        "X_train.min()"
      ]
    },
    {
      "cell_type": "code",
      "execution_count": 27,
      "id": "b921044b",
      "metadata": {
        "id": "b921044b",
        "outputId": "5866e188-e311-496c-b617-b92e8cc6ba20",
        "colab": {
          "base_uri": "https://localhost:8080/"
        }
      },
      "outputs": [
        {
          "output_type": "execute_result",
          "data": {
            "text/plain": [
              "1.0"
            ]
          },
          "metadata": {},
          "execution_count": 27
        }
      ],
      "source": [
        "X_train.max()"
      ]
    },
    {
      "cell_type": "code",
      "execution_count": 28,
      "id": "627674a8",
      "metadata": {
        "id": "627674a8",
        "outputId": "210a9b45-1714-4ae3-a0be-1e9751e328b0",
        "colab": {
          "base_uri": "https://localhost:8080/"
        }
      },
      "outputs": [
        {
          "output_type": "execute_result",
          "data": {
            "text/plain": [
              "(5923, 28, 28, 1)"
            ]
          },
          "metadata": {},
          "execution_count": 28
        }
      ],
      "source": [
        "## Only zeros, again\n",
        "only_zeros = X_train[y_train == 0]\n",
        "only_zeros.shape"
      ]
    },
    {
      "cell_type": "code",
      "execution_count": 29,
      "id": "667ab8e2",
      "metadata": {
        "id": "667ab8e2"
      },
      "outputs": [],
      "source": [
        "import tensorflow as tf\n",
        "from tensorflow.keras.models import Sequential\n",
        "from tensorflow.keras.layers import Dense, Reshape, Dropout, LeakyReLU, Flatten, BatchNormalization, Conv2D, Conv2DTranspose\n",
        "\n",
        "# LeakyReLU behaves a little better that \"relu\" for convolutional gans"
      ]
    },
    {
      "cell_type": "code",
      "execution_count": 30,
      "id": "db41f7ae",
      "metadata": {
        "id": "db41f7ae"
      },
      "outputs": [],
      "source": [
        "np.random.seed(42)\n",
        "tf.random.set_seed(42)\n",
        "\n",
        "codings_size = 100"
      ]
    },
    {
      "cell_type": "code",
      "execution_count": 31,
      "id": "e0961655",
      "metadata": {
        "id": "e0961655"
      },
      "outputs": [],
      "source": [
        "# Creating the generator\n",
        "generator = Sequential()\n",
        "\n",
        "generator.add(Dense(7 * 7 * 128, input_shape=[codings_size]))\n",
        "generator.add(Reshape([7, 7, 128]))\n",
        "generator.add(BatchNormalization())\n",
        "generator.add(Conv2DTranspose(64, kernel_size=5, strides=2, padding=\"same\", activation=\"relu\"))\n",
        "generator.add(BatchNormalization())\n",
        "generator.add(Conv2DTranspose(1, kernel_size=5, strides=2, padding=\"same\", activation=\"tanh\")) # one output because we need 1 image"
      ]
    },
    {
      "cell_type": "code",
      "execution_count": 32,
      "id": "470f2844",
      "metadata": {
        "id": "470f2844"
      },
      "outputs": [],
      "source": [
        "# Creating the discriminator\n",
        "discriminator = Sequential()\n",
        "\n",
        "discriminator.add(Conv2D(64, kernel_size=5, strides=2, padding=\"same\", activation=LeakyReLU(0.3), input_shape=[28, 28, 1]))\n",
        "discriminator.add(Dropout(0.5))\n",
        "discriminator.add(Conv2D(128, kernel_size=5, strides=2, padding=\"same\", activation=LeakyReLU(0.3)))\n",
        "discriminator.add(Dropout(0.5))\n",
        "discriminator.add(Flatten())\n",
        "discriminator.add(Dense(1, activation=\"sigmoid\")) # One output : is a valid image or not"
      ]
    },
    {
      "cell_type": "code",
      "execution_count": 33,
      "id": "bf01c29a",
      "metadata": {
        "id": "bf01c29a"
      },
      "outputs": [],
      "source": [
        "# Creation of GAN\n",
        "GAN = Sequential([generator, discriminator])"
      ]
    },
    {
      "cell_type": "code",
      "execution_count": 34,
      "id": "69129991",
      "metadata": {
        "id": "69129991"
      },
      "outputs": [],
      "source": [
        "# Compiling the discriminator\n",
        "discriminator.compile(loss=\"binary_crossentropy\", optimizer=\"adam\")\n",
        "discriminator.trainable = False"
      ]
    },
    {
      "cell_type": "code",
      "execution_count": 35,
      "id": "4fad987e",
      "metadata": {
        "id": "4fad987e"
      },
      "outputs": [],
      "source": [
        "# Compiling the model\n",
        "GAN.compile(loss=\"binary_crossentropy\", optimizer=\"adam\")"
      ]
    },
    {
      "cell_type": "markdown",
      "id": "909a8c37",
      "metadata": {
        "id": "909a8c37"
      },
      "source": [
        "#### Training Batches"
      ]
    },
    {
      "cell_type": "code",
      "execution_count": 36,
      "id": "060f53b0",
      "metadata": {
        "id": "060f53b0"
      },
      "outputs": [],
      "source": [
        "import tensorflow as tf\n",
        "\n",
        "batch_size = 32\n",
        "dataset = tf.data.Dataset.from_tensor_slices(only_zeros).shuffle(buffer_size=1000)\n",
        "dataset = dataset.batch(batch_size, drop_remainder=True).prefetch(1)"
      ]
    },
    {
      "cell_type": "markdown",
      "id": "f270206c",
      "metadata": {
        "id": "f270206c"
      },
      "source": [
        "#### Training loop"
      ]
    },
    {
      "cell_type": "code",
      "execution_count": 37,
      "id": "8120e54b",
      "metadata": {
        "id": "8120e54b",
        "colab": {
          "base_uri": "https://localhost:8080/"
        },
        "outputId": "7dc787b4-94f4-477b-d443-83816be4ad23"
      },
      "outputs": [
        {
          "output_type": "stream",
          "name": "stdout",
          "text": [
            "Epoch #1\n",
            "\t On batch number 20 of 185\n",
            "\t On batch number 40 of 185\n",
            "\t On batch number 60 of 185\n",
            "\t On batch number 80 of 185\n",
            "\t On batch number 100 of 185\n",
            "\t On batch number 120 of 185\n",
            "\t On batch number 140 of 185\n",
            "\t On batch number 160 of 185\n",
            "\t On batch number 180 of 185\n",
            "Epoch #2\n",
            "\t On batch number 20 of 185\n",
            "\t On batch number 40 of 185\n",
            "\t On batch number 60 of 185\n",
            "\t On batch number 80 of 185\n",
            "\t On batch number 100 of 185\n",
            "\t On batch number 120 of 185\n",
            "\t On batch number 140 of 185\n",
            "\t On batch number 160 of 185\n",
            "\t On batch number 180 of 185\n",
            "Epoch #3\n",
            "\t On batch number 20 of 185\n",
            "\t On batch number 40 of 185\n",
            "\t On batch number 60 of 185\n",
            "\t On batch number 80 of 185\n",
            "\t On batch number 100 of 185\n",
            "\t On batch number 120 of 185\n",
            "\t On batch number 140 of 185\n",
            "\t On batch number 160 of 185\n",
            "\t On batch number 180 of 185\n",
            "Epoch #4\n",
            "\t On batch number 20 of 185\n",
            "\t On batch number 40 of 185\n",
            "\t On batch number 60 of 185\n",
            "\t On batch number 80 of 185\n",
            "\t On batch number 100 of 185\n",
            "\t On batch number 120 of 185\n",
            "\t On batch number 140 of 185\n",
            "\t On batch number 160 of 185\n",
            "\t On batch number 180 of 185\n",
            "Epoch #5\n",
            "\t On batch number 20 of 185\n",
            "\t On batch number 40 of 185\n",
            "\t On batch number 60 of 185\n",
            "\t On batch number 80 of 185\n",
            "\t On batch number 100 of 185\n",
            "\t On batch number 120 of 185\n",
            "\t On batch number 140 of 185\n",
            "\t On batch number 160 of 185\n",
            "\t On batch number 180 of 185\n",
            "Epoch #6\n",
            "\t On batch number 20 of 185\n",
            "\t On batch number 40 of 185\n",
            "\t On batch number 60 of 185\n",
            "\t On batch number 80 of 185\n",
            "\t On batch number 100 of 185\n",
            "\t On batch number 120 of 185\n",
            "\t On batch number 140 of 185\n",
            "\t On batch number 160 of 185\n",
            "\t On batch number 180 of 185\n",
            "Epoch #7\n",
            "\t On batch number 20 of 185\n",
            "\t On batch number 40 of 185\n",
            "\t On batch number 60 of 185\n",
            "\t On batch number 80 of 185\n",
            "\t On batch number 100 of 185\n",
            "\t On batch number 120 of 185\n",
            "\t On batch number 140 of 185\n",
            "\t On batch number 160 of 185\n",
            "\t On batch number 180 of 185\n",
            "Epoch #8\n",
            "\t On batch number 20 of 185\n",
            "\t On batch number 40 of 185\n",
            "\t On batch number 60 of 185\n",
            "\t On batch number 80 of 185\n",
            "\t On batch number 100 of 185\n",
            "\t On batch number 120 of 185\n",
            "\t On batch number 140 of 185\n",
            "\t On batch number 160 of 185\n",
            "\t On batch number 180 of 185\n",
            "Epoch #9\n",
            "\t On batch number 20 of 185\n",
            "\t On batch number 40 of 185\n",
            "\t On batch number 60 of 185\n",
            "\t On batch number 80 of 185\n",
            "\t On batch number 100 of 185\n",
            "\t On batch number 120 of 185\n",
            "\t On batch number 140 of 185\n",
            "\t On batch number 160 of 185\n",
            "\t On batch number 180 of 185\n",
            "Epoch #10\n",
            "\t On batch number 20 of 185\n",
            "\t On batch number 40 of 185\n",
            "\t On batch number 60 of 185\n",
            "\t On batch number 80 of 185\n",
            "\t On batch number 100 of 185\n",
            "\t On batch number 120 of 185\n",
            "\t On batch number 140 of 185\n",
            "\t On batch number 160 of 185\n",
            "\t On batch number 180 of 185\n",
            "Epoch #11\n",
            "\t On batch number 20 of 185\n",
            "\t On batch number 40 of 185\n",
            "\t On batch number 60 of 185\n",
            "\t On batch number 80 of 185\n",
            "\t On batch number 100 of 185\n",
            "\t On batch number 120 of 185\n",
            "\t On batch number 140 of 185\n",
            "\t On batch number 160 of 185\n",
            "\t On batch number 180 of 185\n",
            "Epoch #12\n",
            "\t On batch number 20 of 185\n",
            "\t On batch number 40 of 185\n",
            "\t On batch number 60 of 185\n",
            "\t On batch number 80 of 185\n",
            "\t On batch number 100 of 185\n",
            "\t On batch number 120 of 185\n",
            "\t On batch number 140 of 185\n",
            "\t On batch number 160 of 185\n",
            "\t On batch number 180 of 185\n",
            "Epoch #13\n",
            "\t On batch number 20 of 185\n",
            "\t On batch number 40 of 185\n",
            "\t On batch number 60 of 185\n",
            "\t On batch number 80 of 185\n",
            "\t On batch number 100 of 185\n",
            "\t On batch number 120 of 185\n",
            "\t On batch number 140 of 185\n",
            "\t On batch number 160 of 185\n",
            "\t On batch number 180 of 185\n",
            "Epoch #14\n",
            "\t On batch number 20 of 185\n",
            "\t On batch number 40 of 185\n",
            "\t On batch number 60 of 185\n",
            "\t On batch number 80 of 185\n",
            "\t On batch number 100 of 185\n",
            "\t On batch number 120 of 185\n",
            "\t On batch number 140 of 185\n",
            "\t On batch number 160 of 185\n",
            "\t On batch number 180 of 185\n",
            "Epoch #15\n",
            "\t On batch number 20 of 185\n",
            "\t On batch number 40 of 185\n",
            "\t On batch number 60 of 185\n",
            "\t On batch number 80 of 185\n",
            "\t On batch number 100 of 185\n",
            "\t On batch number 120 of 185\n",
            "\t On batch number 140 of 185\n",
            "\t On batch number 160 of 185\n",
            "\t On batch number 180 of 185\n",
            "Epoch #16\n",
            "\t On batch number 20 of 185\n",
            "\t On batch number 40 of 185\n",
            "\t On batch number 60 of 185\n",
            "\t On batch number 80 of 185\n",
            "\t On batch number 100 of 185\n",
            "\t On batch number 120 of 185\n",
            "\t On batch number 140 of 185\n",
            "\t On batch number 160 of 185\n",
            "\t On batch number 180 of 185\n",
            "Epoch #17\n",
            "\t On batch number 20 of 185\n",
            "\t On batch number 40 of 185\n",
            "\t On batch number 60 of 185\n",
            "\t On batch number 80 of 185\n",
            "\t On batch number 100 of 185\n",
            "\t On batch number 120 of 185\n",
            "\t On batch number 140 of 185\n",
            "\t On batch number 160 of 185\n",
            "\t On batch number 180 of 185\n",
            "Epoch #18\n",
            "\t On batch number 20 of 185\n",
            "\t On batch number 40 of 185\n",
            "\t On batch number 60 of 185\n",
            "\t On batch number 80 of 185\n",
            "\t On batch number 100 of 185\n",
            "\t On batch number 120 of 185\n",
            "\t On batch number 140 of 185\n",
            "\t On batch number 160 of 185\n",
            "\t On batch number 180 of 185\n",
            "Epoch #19\n",
            "\t On batch number 20 of 185\n",
            "\t On batch number 40 of 185\n",
            "\t On batch number 60 of 185\n",
            "\t On batch number 80 of 185\n",
            "\t On batch number 100 of 185\n",
            "\t On batch number 120 of 185\n",
            "\t On batch number 140 of 185\n",
            "\t On batch number 160 of 185\n",
            "\t On batch number 180 of 185\n",
            "Epoch #20\n",
            "\t On batch number 20 of 185\n",
            "\t On batch number 40 of 185\n",
            "\t On batch number 60 of 185\n",
            "\t On batch number 80 of 185\n",
            "\t On batch number 100 of 185\n",
            "\t On batch number 120 of 185\n",
            "\t On batch number 140 of 185\n",
            "\t On batch number 160 of 185\n",
            "\t On batch number 180 of 185\n",
            "--- Complete ---\n"
          ]
        }
      ],
      "source": [
        "epochs = 20\n",
        "\n",
        "# As separate components\n",
        "generator, discriminator = GAN.layers\n",
        "\n",
        "# For every epcoh\n",
        "for epoch in range(epochs):\n",
        "    print(f\"Epoch #{epoch + 1}\")\n",
        "\n",
        "    i = 0\n",
        "    # For every batch in the dataset\n",
        "    for X_batch in dataset:\n",
        "        i = i + 1\n",
        "        if i % 20 == 0:\n",
        "            print(f\"\\t On batch number {i} of {len(only_zeros) // batch_size}\")\n",
        "\n",
        "        ## TRAINING THE DISCRIMINATOR\n",
        "        \n",
        "        # Create noise\n",
        "        noise = tf.random.normal(shape=[batch_size, codings_size])\n",
        "        \n",
        "        # Generate numbers based just on noise input\n",
        "        gen_images = generator(noise)\n",
        "        \n",
        "        # Concatenate generated images against the real ones\n",
        "        X_fake_vs_real = tf.concat([gen_images, tf.dtypes.cast(X_batch,tf.float32)], axis=0)\n",
        "        \n",
        "        # Targets set to zero for fake images and 1 for real images\n",
        "        y1 = tf.constant([[0.]] * batch_size + [[1.]] * batch_size)\n",
        "        \n",
        "        discriminator.trainable = True  # this gets rid of a keras warning\n",
        "        \n",
        "        # Train the discriminator on this batch\n",
        "        discriminator.train_on_batch(X_fake_vs_real, y1)\n",
        "        \n",
        "        ## TRAINING THE GENERATOR \n",
        "        \n",
        "        # Create some noise\n",
        "        noise = tf.random.normal(shape=[batch_size, codings_size])\n",
        "        \n",
        "        # We want discriminator to belive that fake images are real\n",
        "        y2 = tf.constant([[1.]] * batch_size)\n",
        "        \n",
        "        # Avois a warning\n",
        "        discriminator.trainable = False\n",
        "        \n",
        "        GAN.train_on_batch(noise, y2)\n",
        "        \n",
        "print(\"--- Complete ---\")            "
      ]
    },
    {
      "cell_type": "code",
      "source": [
        "noise = tf.random.normal(shape=[10, codings_size])\n",
        "noise.shape"
      ],
      "metadata": {
        "colab": {
          "base_uri": "https://localhost:8080/"
        },
        "id": "Z1e1YNGumS-a",
        "outputId": "98332eea-0b17-4cc4-a1da-5b83b9f15d05"
      },
      "id": "Z1e1YNGumS-a",
      "execution_count": 38,
      "outputs": [
        {
          "output_type": "execute_result",
          "data": {
            "text/plain": [
              "TensorShape([10, 100])"
            ]
          },
          "metadata": {},
          "execution_count": 38
        }
      ]
    },
    {
      "cell_type": "code",
      "source": [
        "plt.imshow(noise)"
      ],
      "metadata": {
        "colab": {
          "base_uri": "https://localhost:8080/",
          "height": 101
        },
        "id": "4cCaIIuHmWOK",
        "outputId": "9493c2cc-82de-4afe-8b7b-bb43fea3947e"
      },
      "id": "4cCaIIuHmWOK",
      "execution_count": 39,
      "outputs": [
        {
          "output_type": "execute_result",
          "data": {
            "text/plain": [
              "<matplotlib.image.AxesImage at 0x7ff3e66e1110>"
            ]
          },
          "metadata": {},
          "execution_count": 39
        },
        {
          "output_type": "display_data",
          "data": {
            "text/plain": [
              "<Figure size 432x288 with 1 Axes>"
            ],
            "image/png": "[encoded data removed]"
          },
          "metadata": {
            "needs_background": "light"
          }
        }
      ]
    },
    {
      "cell_type": "code",
      "source": [
        "images = generator(noise)"
      ],
      "metadata": {
        "id": "Jq-0DKapmXEX"
      },
      "id": "Jq-0DKapmXEX",
      "execution_count": 40,
      "outputs": []
    },
    {
      "cell_type": "code",
      "source": [
        "for image in images:\n",
        "    plt.imshow(image.numpy().reshape(28,28))\n",
        "    plt.show()"
      ],
      "metadata": {
        "colab": {
          "base_uri": "https://localhost:8080/",
          "height": 1000
        },
        "id": "BNoKoMxBma1w",
        "outputId": "28610b28-c9ff-4f81-e7b3-9a794fed953a"
      },
      "id": "BNoKoMxBma1w",
      "execution_count": 41,
      "outputs": [
        {
          "output_type": "display_data",
          "data": {
            "text/plain": [
              "<Figure size 432x288 with 1 Axes>"
            ],
            "image/png": "[encoded data removed]"
          },
          "metadata": {
            "needs_background": "light"
          }
        },
        {
          "output_type": "display_data",
          "data": {
            "text/plain": [
              "<Figure size 432x288 with 1 Axes>"
            ],
            "image/png": "[encoded data removed]"
          },
          "metadata": {
            "needs_background": "light"
          }
        },
        {
          "output_type": "display_data",
          "data": {
            "text/plain": [
              "<Figure size 432x288 with 1 Axes>"
            ],
            "image/png": "[encoded data removed]"
          },
          "metadata": {
            "needs_background": "light"
          }
        },
        {
          "output_type": "display_data",
          "data": {
            "text/plain": [
              "<Figure size 432x288 with 1 Axes>"
            ],
            "image/png": "[encoded data removed]"
          },
          "metadata": {
            "needs_background": "light"
          }
        },
        {
          "output_type": "display_data",
          "data": {
            "text/plain": [
              "<Figure size 432x288 with 1 Axes>"
            ],
            "image/png": "[encoded data removed]"
          },
          "metadata": {
            "needs_background": "light"
          }
        },
        {
          "output_type": "display_data",
          "data": {
            "text/plain": [
              "<Figure size 432x288 with 1 Axes>"
            ],
            "image/png": "[encoded data removed]"
          },
          "metadata": {
            "needs_background": "light"
          }
        },
        {
          "output_type": "display_data",
          "data": {
            "text/plain": [
              "<Figure size 432x288 with 1 Axes>"
            ],
            "image/png": "[encoded data removed]"
          },
          "metadata": {
            "needs_background": "light"
          }
        },
        {
          "output_type": "display_data",
          "data": {
            "text/plain": [
              "<Figure size 432x288 with 1 Axes>"
            ],
            "image/png": "[encoded data removed]"
          },
          "metadata": {
            "needs_background": "light"
          }
        },
        {
          "output_type": "display_data",
          "data": {
            "text/plain": [
              "<Figure size 432x288 with 1 Axes>"
            ],
            "image/png": "[encoded data removed]"
          },
          "metadata": {
            "needs_background": "light"
          }
        },
        {
          "output_type": "display_data",
          "data": {
            "text/plain": [
              "<Figure size 432x288 with 1 Axes>"
            ],
            "image/png": "[encoded data removed]"
          },
          "metadata": {
            "needs_background": "light"
          }
        }
      ]
    }
  ],
  "metadata": {
    "kernelspec": {
      "display_name": "Python 3 (ipykernel)",
      "language": "python",
      "name": "python3"
    },
    "language_info": {
      "codemirror_mode": {
        "name": "ipython",
        "version": 3
      },
      "file_extension": ".py",
      "mimetype": "text/x-python",
      "name": "python",
      "nbconvert_exporter": "python",
      "pygments_lexer": "ipython3",
      "version": "3.8.10"
    },
    "colab": {
      "name": "gan.ipynb",
      "provenance": [],
      "collapsed_sections": [
        "949bb6d9",
        "f74e6bc2"
      ]
    },
    "accelerator": "GPU"
  },
  "nbformat": 4,
  "nbformat_minor": 5
}