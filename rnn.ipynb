{
 "cells": [
  {
   "cell_type": "markdown",
   "id": "c0d011ae",
   "metadata": {},
   "source": [
    "# Recurrent Neural Network Project\n",
    "\n",
    "#### For the course Complete Tensorflow 2 and Keras Deeplearning Bootcamp\n"
   ]
  },
  {
   "cell_type": "code",
   "execution_count": null,
   "id": "1240c959",
   "metadata": {},
   "outputs": [],
   "source": []
  }
 ],
 "metadata": {
  "kernelspec": {
   "display_name": "Python 3 (ipykernel)",
   "language": "python",
   "name": "python3"
  },
  "language_info": {
   "codemirror_mode": {
    "name": "ipython",
    "version": 3
   },
   "file_extension": ".py",
   "mimetype": "text/x-python",
   "name": "python",
   "nbconvert_exporter": "python",
   "pygments_lexer": "ipython3",
   "version": "3.8.10"
  }
 },
 "nbformat": 4,
 "nbformat_minor": 5
}
