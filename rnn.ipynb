{
 "cells": [
  {
   "cell_type": "markdown",
   "id": "c0d011ae",
   "metadata": {},
   "source": [
    "# Recurrent Neural Network Project\n",
    "\n",
    "#### For the course Complete Tensorflow 2 and Keras Deeplearning Bootcamp\n",
    "\n",
    "We will use the [Frozen Dessert Production dataset](https://fred.stlouisfed.org/series/IPN31152N) and create a RNN model to predict future values. The dataset has a industrial production (IP) index values per month. The IP measures the real output of all relevant establishments located in the United States."
   ]
  },
  {
   "cell_type": "code",
   "execution_count": 1,
   "id": "1240c959",
   "metadata": {},
   "outputs": [],
   "source": [
    "# Imports\n",
    "\n",
    "import pandas as pd\n",
    "import numpy as np\n",
    "import matplotlib.pyplot as plt"
   ]
  },
  {
   "cell_type": "markdown",
   "id": "33e3105b",
   "metadata": {},
   "source": [
    "## Data exploration"
   ]
  },
  {
   "cell_type": "code",
   "execution_count": 2,
   "id": "af4af43a",
   "metadata": {},
   "outputs": [
    {
     "data": {
      "text/html": [
       "<div>\n",
       "<style scoped>\n",
       "    .dataframe tbody tr th:only-of-type {\n",
       "        vertical-align: middle;\n",
       "    }\n",
       "\n",
       "    .dataframe tbody tr th {\n",
       "        vertical-align: top;\n",
       "    }\n",
       "\n",
       "    .dataframe thead th {\n",
       "        text-align: right;\n",
       "    }\n",
       "</style>\n",
       "<table border=\"1\" class=\"dataframe\">\n",
       "  <thead>\n",
       "    <tr style=\"text-align: right;\">\n",
       "      <th></th>\n",
       "      <th>DATE</th>\n",
       "      <th>IPN31152N</th>\n",
       "    </tr>\n",
       "  </thead>\n",
       "  <tbody>\n",
       "    <tr>\n",
       "      <th>0</th>\n",
       "      <td>1972-01-01</td>\n",
       "      <td>59.9622</td>\n",
       "    </tr>\n",
       "    <tr>\n",
       "      <th>1</th>\n",
       "      <td>1972-02-01</td>\n",
       "      <td>67.0605</td>\n",
       "    </tr>\n",
       "    <tr>\n",
       "      <th>2</th>\n",
       "      <td>1972-03-01</td>\n",
       "      <td>74.2350</td>\n",
       "    </tr>\n",
       "    <tr>\n",
       "      <th>3</th>\n",
       "      <td>1972-04-01</td>\n",
       "      <td>78.1120</td>\n",
       "    </tr>\n",
       "    <tr>\n",
       "      <th>4</th>\n",
       "      <td>1972-05-01</td>\n",
       "      <td>84.7636</td>\n",
       "    </tr>\n",
       "  </tbody>\n",
       "</table>\n",
       "</div>"
      ],
      "text/plain": [
       "         DATE  IPN31152N\n",
       "0  1972-01-01    59.9622\n",
       "1  1972-02-01    67.0605\n",
       "2  1972-03-01    74.2350\n",
       "3  1972-04-01    78.1120\n",
       "4  1972-05-01    84.7636"
      ]
     },
     "execution_count": 2,
     "metadata": {},
     "output_type": "execute_result"
    }
   ],
   "source": [
    "ip_df = pd.read_csv(\"data/Frozen_Dessert_Production.csv\")\n",
    "ip_df.head()"
   ]
  },
  {
   "cell_type": "code",
   "execution_count": 3,
   "id": "7434df6a",
   "metadata": {},
   "outputs": [
    {
     "data": {
      "text/html": [
       "<div>\n",
       "<style scoped>\n",
       "    .dataframe tbody tr th:only-of-type {\n",
       "        vertical-align: middle;\n",
       "    }\n",
       "\n",
       "    .dataframe tbody tr th {\n",
       "        vertical-align: top;\n",
       "    }\n",
       "\n",
       "    .dataframe thead th {\n",
       "        text-align: right;\n",
       "    }\n",
       "</style>\n",
       "<table border=\"1\" class=\"dataframe\">\n",
       "  <thead>\n",
       "    <tr style=\"text-align: right;\">\n",
       "      <th></th>\n",
       "      <th>IP</th>\n",
       "    </tr>\n",
       "    <tr>\n",
       "      <th>DATE</th>\n",
       "      <th></th>\n",
       "    </tr>\n",
       "  </thead>\n",
       "  <tbody>\n",
       "    <tr>\n",
       "      <th>1972-01-01</th>\n",
       "      <td>59.9622</td>\n",
       "    </tr>\n",
       "    <tr>\n",
       "      <th>1972-02-01</th>\n",
       "      <td>67.0605</td>\n",
       "    </tr>\n",
       "    <tr>\n",
       "      <th>1972-03-01</th>\n",
       "      <td>74.2350</td>\n",
       "    </tr>\n",
       "    <tr>\n",
       "      <th>1972-04-01</th>\n",
       "      <td>78.1120</td>\n",
       "    </tr>\n",
       "    <tr>\n",
       "      <th>1972-05-01</th>\n",
       "      <td>84.7636</td>\n",
       "    </tr>\n",
       "  </tbody>\n",
       "</table>\n",
       "</div>"
      ],
      "text/plain": [
       "                 IP\n",
       "DATE               \n",
       "1972-01-01  59.9622\n",
       "1972-02-01  67.0605\n",
       "1972-03-01  74.2350\n",
       "1972-04-01  78.1120\n",
       "1972-05-01  84.7636"
      ]
     },
     "execution_count": 3,
     "metadata": {},
     "output_type": "execute_result"
    }
   ],
   "source": [
    "ip_df = ip_df.set_index(\"DATE\")\n",
    "ip_df.columns = [\"IP\"]\n",
    "\n",
    "ip_df.head()"
   ]
  },
  {
   "cell_type": "code",
   "execution_count": 4,
   "id": "91559a0c",
   "metadata": {
    "scrolled": true
   },
   "outputs": [
    {
     "name": "stdout",
     "output_type": "stream",
     "text": [
      "Date min: 1972-01-01\n",
      "Date max: 2019-09-01\n"
     ]
    }
   ],
   "source": [
    "print(f\"Date min: {ip_df.index.min()}\")\n",
    "print(f\"Date max: {ip_df.index.max()}\")\n"
   ]
  },
  {
   "cell_type": "code",
   "execution_count": 5,
   "id": "8cbd1f46",
   "metadata": {},
   "outputs": [
    {
     "data": {
      "image/png": "[encoded data removed]",
      "text/plain": [
       "<Figure size 1152x288 with 1 Axes>"
      ]
     },
     "metadata": {
      "needs_background": "light"
     },
     "output_type": "display_data"
    }
   ],
   "source": [
    "ip_df.plot(figsize=(16, 4));"
   ]
  },
  {
   "cell_type": "markdown",
   "id": "e25e2ce3",
   "metadata": {},
   "source": [
    "## Train and Test Split"
   ]
  },
  {
   "cell_type": "code",
   "execution_count": 6,
   "id": "13a99a78",
   "metadata": {},
   "outputs": [
    {
     "data": {
      "text/plain": [
       "573"
      ]
     },
     "execution_count": 6,
     "metadata": {},
     "output_type": "execute_result"
    }
   ],
   "source": [
    "# How many rows do we have\n",
    "\n",
    "len(ip_df)"
   ]
  },
  {
   "cell_type": "code",
   "execution_count": 7,
   "id": "ec9dbdb9",
   "metadata": {},
   "outputs": [],
   "source": [
    "# Define a test size\n",
    "# In this case we decide that the test size is the last two years, 24 months\n",
    "\n",
    "test_size = 24\n",
    "test_index = len(ip_df) - test_size"
   ]
  },
  {
   "cell_type": "code",
   "execution_count": 8,
   "id": "d2b717d1",
   "metadata": {},
   "outputs": [],
   "source": [
    "# Now we define the train and test split\n",
    "\n",
    "train_set = ip_df.iloc[:test_index]\n",
    "test_set = ip_df.iloc[test_index:]"
   ]
  },
  {
   "cell_type": "code",
   "execution_count": 9,
   "id": "f3e55cf3",
   "metadata": {},
   "outputs": [
    {
     "name": "stdout",
     "output_type": "stream",
     "text": [
      "Train set size: 549\n",
      "Test set size: 24\n"
     ]
    }
   ],
   "source": [
    "print(f\"Train set size: {len(train_set)}\")\n",
    "print(f\"Test set size: {len(test_set)}\")"
   ]
  },
  {
   "cell_type": "markdown",
   "id": "1819d6f6",
   "metadata": {},
   "source": [
    "## Scaling the data"
   ]
  },
  {
   "cell_type": "code",
   "execution_count": 10,
   "id": "c5612253",
   "metadata": {},
   "outputs": [],
   "source": [
    "# We will scale the data between 0 and 1 using MinMaxScaler\n",
    "\n",
    "from sklearn.preprocessing import MinMaxScaler\n",
    "\n",
    "scaler = MinMaxScaler()\n",
    "scaled_train_set = scaler.fit_transform(train_set)\n",
    "scaled_test_set = scaler.transform(test_set)"
   ]
  },
  {
   "cell_type": "markdown",
   "id": "b6009c37",
   "metadata": {},
   "source": [
    "## Time Series Generator\n",
    "\n",
    "We will create a TimeSeriesGenerator that will basically embed the time series inside a TimeSeriesGenerator object that will later directly be feed inside the network."
   ]
  },
  {
   "cell_type": "code",
   "execution_count": 11,
   "id": "2ed043e0",
   "metadata": {},
   "outputs": [],
   "source": [
    "from tensorflow.keras.preprocessing.sequence import TimeseriesGenerator\n",
    "\n",
    "# length of each sample used to train our network. In this case, with 18 (months) we capture a full year seasonality\n",
    "length = 18\n",
    "\n",
    "# batch size represent the number of output sub-series per batch\n",
    "train_generator = TimeseriesGenerator(data=scaled_train_set, targets=scaled_train_set, length=length, batch_size=1)"
   ]
  },
  {
   "cell_type": "markdown",
   "id": "720a697c",
   "metadata": {},
   "source": [
    "## Creation of the model"
   ]
  },
  {
   "cell_type": "code",
   "execution_count": 12,
   "id": "40875714",
   "metadata": {},
   "outputs": [],
   "source": [
    "from tensorflow.keras.models import Sequential\n",
    "from tensorflow.keras.layers import LSTM, Dense\n",
    "\n",
    "# We only have one feature\n",
    "n_features = 1 \n",
    "\n",
    "model = Sequential()\n",
    "\n",
    "# as a Dense layer with 100 dimensions will have 100 neurons, LSTM(100) will be a layer of 100 'smart neurons'\n",
    "# where the output will be a vector of 100 dimensions\n",
    "model.add(LSTM(units=100, activation='relu', input_shape=(length, n_features)))\n",
    "model.add(Dense(1)) # output layer with only 1 output\n",
    "\n",
    "# compilation\n",
    "model.compile(optimizer='adam', loss='mse')"
   ]
  },
  {
   "cell_type": "code",
   "execution_count": 13,
   "id": "67357336",
   "metadata": {},
   "outputs": [
    {
     "name": "stdout",
     "output_type": "stream",
     "text": [
      "Model: \"sequential\"\n",
      "_________________________________________________________________\n",
      " Layer (type)                Output Shape              Param #   \n",
      "=================================================================\n",
      " lstm (LSTM)                 (None, 100)               40800     \n",
      "                                                                 \n",
      " dense (Dense)               (None, 1)                 101       \n",
      "                                                                 \n",
      "=================================================================\n",
      "Total params: 40,901\n",
      "Trainable params: 40,901\n",
      "Non-trainable params: 0\n",
      "_________________________________________________________________\n"
     ]
    }
   ],
   "source": [
    "model.summary()"
   ]
  },
  {
   "cell_type": "code",
   "execution_count": 14,
   "id": "7f23da75",
   "metadata": {},
   "outputs": [],
   "source": [
    "# Creating a TimeSeriesGenerator for the validation set\n",
    "\n",
    "validation_generator = TimeseriesGenerator(data=scaled_test_set, targets=scaled_test_set, length=length, batch_size=1)"
   ]
  },
  {
   "cell_type": "code",
   "execution_count": 15,
   "id": "be7060ea",
   "metadata": {},
   "outputs": [],
   "source": [
    "# Let´s create an EarlyStopping\n",
    "\n",
    "from tensorflow.keras.callbacks import EarlyStopping\n",
    "\n",
    "early_stop = EarlyStopping(monitor=\"val_loss\", patience=2)"
   ]
  },
  {
   "cell_type": "code",
   "execution_count": 16,
   "id": "6906e056",
   "metadata": {},
   "outputs": [
    {
     "name": "stdout",
     "output_type": "stream",
     "text": [
      "Epoch 1/20\n"
     ]
    },
    {
     "name": "stderr",
     "output_type": "stream",
     "text": [
      "C:\\Users\\ROCIO~1.HUB\\AppData\\Local\\Temp/ipykernel_33620/3999719263.py:3: UserWarning: `Model.fit_generator` is deprecated and will be removed in a future version. Please use `Model.fit`, which supports generators.\n",
      "  model.fit_generator(generator=train_generator, epochs=20, validation_data=validation_generator, callbacks=[early_stop])\n"
     ]
    },
    {
     "name": "stdout",
     "output_type": "stream",
     "text": [
      "531/531 [==============================] - 4s 6ms/step - loss: 0.0275 - val_loss: 0.0033\n",
      "Epoch 2/20\n",
      "531/531 [==============================] - 2s 5ms/step - loss: 0.0080 - val_loss: 0.0050\n",
      "Epoch 3/20\n",
      "531/531 [==============================] - 2s 4ms/step - loss: 0.0043 - val_loss: 0.0082\n"
     ]
    },
    {
     "data": {
      "text/plain": [
       "<keras.callbacks.History at 0x19c4be0d370>"
      ]
     },
     "execution_count": 16,
     "metadata": {},
     "output_type": "execute_result"
    }
   ],
   "source": [
    "# Let´s fit the model to the train generator; and use validation_generator to validate and be able to use early_stop\n",
    "\n",
    "model.fit_generator(generator=train_generator, epochs=20, validation_data=validation_generator, callbacks=[early_stop])"
   ]
  },
  {
   "cell_type": "code",
   "execution_count": 17,
   "id": "5d0f8c5b",
   "metadata": {},
   "outputs": [
    {
     "data": {
      "image/png": "[encoded data removed]",
      "text/plain": [
       "<Figure size 432x288 with 1 Axes>"
      ]
     },
     "metadata": {
      "needs_background": "light"
     },
     "output_type": "display_data"
    }
   ],
   "source": [
    "# Plotting the loss over training\n",
    "\n",
    "loss = pd.DataFrame(model.history.history)\n",
    "loss.plot();"
   ]
  },
  {
   "cell_type": "markdown",
   "id": "48aba05e",
   "metadata": {},
   "source": [
    "## Evaluation of the model over test data\n",
    "\n",
    "Let´s forecast new predictions and see how the model is behaving."
   ]
  },
  {
   "cell_type": "code",
   "execution_count": 18,
   "id": "0217715c",
   "metadata": {},
   "outputs": [
    {
     "name": "stdout",
     "output_type": "stream",
     "text": [
      "1/1 [==============================] - 0s 211ms/step\n",
      "1/1 [==============================] - 0s 18ms/step\n",
      "1/1 [==============================] - 0s 22ms/step\n",
      "1/1 [==============================] - 0s 18ms/step\n",
      "1/1 [==============================] - 0s 39ms/step\n",
      "1/1 [==============================] - 0s 22ms/step\n",
      "1/1 [==============================] - 0s 23ms/step\n",
      "1/1 [==============================] - 0s 20ms/step\n",
      "1/1 [==============================] - 0s 37ms/step\n",
      "1/1 [==============================] - 0s 25ms/step\n",
      "1/1 [==============================] - 0s 17ms/step\n",
      "1/1 [==============================] - 0s 16ms/step\n",
      "1/1 [==============================] - 0s 17ms/step\n",
      "1/1 [==============================] - 0s 18ms/step\n",
      "1/1 [==============================] - 0s 25ms/step\n",
      "1/1 [==============================] - 0s 32ms/step\n",
      "1/1 [==============================] - 0s 22ms/step\n",
      "1/1 [==============================] - 0s 19ms/step\n",
      "1/1 [==============================] - 0s 17ms/step\n",
      "1/1 [==============================] - 0s 21ms/step\n",
      "1/1 [==============================] - 0s 16ms/step\n",
      "1/1 [==============================] - 0s 18ms/step\n",
      "1/1 [==============================] - 0s 16ms/step\n",
      "1/1 [==============================] - 0s 16ms/step\n"
     ]
    }
   ],
   "source": [
    "test_predictions = []\n",
    "\n",
    "# we need these last 24 months to predict some new value (24 since that the length we define before)\n",
    "first_evaluation_batch = scaled_train_set[-length:]\n",
    "\n",
    "# one time series per batch (the 1 correspond to the batch size)\n",
    "current_batch = first_evaluation_batch.reshape((1, length, n_features))\n",
    "\n",
    "# we are only forecasting over the test set\n",
    "for i in range(len(test_set)):\n",
    "    \n",
    "    # get prediction 1 time stamp ahead ([0] is for grabbing just the number instead of [array])\n",
    "    current_prediction = model.predict(current_batch)[0]\n",
    "    \n",
    "    # store the prediction\n",
    "    test_predictions.append(current_prediction) \n",
    "    \n",
    "    # update batch to now include prediction and drop first value\n",
    "    current_batch = np.append(current_batch[:, 1:, :],[[current_prediction]], axis=1)"
   ]
  },
  {
   "cell_type": "code",
   "execution_count": 19,
   "id": "7c4b9fc4",
   "metadata": {},
   "outputs": [],
   "source": [
    "# We need to inverse the scaling transformation\n",
    "\n",
    "true_predictions = scaler.inverse_transform(test_predictions)"
   ]
  },
  {
   "cell_type": "code",
   "execution_count": 20,
   "id": "bbf71d0b",
   "metadata": {},
   "outputs": [
    {
     "name": "stderr",
     "output_type": "stream",
     "text": [
      "C:\\Users\\ROCIO~1.HUB\\AppData\\Local\\Temp/ipykernel_33620/1705516727.py:3: SettingWithCopyWarning: \n",
      "A value is trying to be set on a copy of a slice from a DataFrame.\n",
      "Try using .loc[row_indexer,col_indexer] = value instead\n",
      "\n",
      "See the caveats in the documentation: https://pandas.pydata.org/pandas-docs/stable/user_guide/indexing.html#returning-a-view-versus-a-copy\n",
      "  test_set[\"Predictions\"] = true_predictions\n"
     ]
    },
    {
     "data": {
      "text/html": [
       "<div>\n",
       "<style scoped>\n",
       "    .dataframe tbody tr th:only-of-type {\n",
       "        vertical-align: middle;\n",
       "    }\n",
       "\n",
       "    .dataframe tbody tr th {\n",
       "        vertical-align: top;\n",
       "    }\n",
       "\n",
       "    .dataframe thead th {\n",
       "        text-align: right;\n",
       "    }\n",
       "</style>\n",
       "<table border=\"1\" class=\"dataframe\">\n",
       "  <thead>\n",
       "    <tr style=\"text-align: right;\">\n",
       "      <th></th>\n",
       "      <th>IP</th>\n",
       "      <th>Predictions</th>\n",
       "    </tr>\n",
       "    <tr>\n",
       "      <th>DATE</th>\n",
       "      <th></th>\n",
       "      <th></th>\n",
       "    </tr>\n",
       "  </thead>\n",
       "  <tbody>\n",
       "    <tr>\n",
       "      <th>2017-10-01</th>\n",
       "      <td>90.4732</td>\n",
       "      <td>100.940227</td>\n",
       "    </tr>\n",
       "    <tr>\n",
       "      <th>2017-11-01</th>\n",
       "      <td>77.4378</td>\n",
       "      <td>99.761923</td>\n",
       "    </tr>\n",
       "    <tr>\n",
       "      <th>2017-12-01</th>\n",
       "      <td>75.8118</td>\n",
       "      <td>103.381028</td>\n",
       "    </tr>\n",
       "    <tr>\n",
       "      <th>2018-01-01</th>\n",
       "      <td>83.4343</td>\n",
       "      <td>114.155944</td>\n",
       "    </tr>\n",
       "    <tr>\n",
       "      <th>2018-02-01</th>\n",
       "      <td>99.4899</td>\n",
       "      <td>127.071740</td>\n",
       "    </tr>\n",
       "    <tr>\n",
       "      <th>2018-03-01</th>\n",
       "      <td>107.3152</td>\n",
       "      <td>136.252951</td>\n",
       "    </tr>\n",
       "    <tr>\n",
       "      <th>2018-04-01</th>\n",
       "      <td>112.4309</td>\n",
       "      <td>141.697209</td>\n",
       "    </tr>\n",
       "    <tr>\n",
       "      <th>2018-05-01</th>\n",
       "      <td>110.3544</td>\n",
       "      <td>144.158255</td>\n",
       "    </tr>\n",
       "    <tr>\n",
       "      <th>2018-06-01</th>\n",
       "      <td>124.5841</td>\n",
       "      <td>141.511157</td>\n",
       "    </tr>\n",
       "    <tr>\n",
       "      <th>2018-07-01</th>\n",
       "      <td>117.2215</td>\n",
       "      <td>134.532521</td>\n",
       "    </tr>\n",
       "    <tr>\n",
       "      <th>2018-08-01</th>\n",
       "      <td>112.6779</td>\n",
       "      <td>124.647397</td>\n",
       "    </tr>\n",
       "    <tr>\n",
       "      <th>2018-09-01</th>\n",
       "      <td>103.3118</td>\n",
       "      <td>115.764529</td>\n",
       "    </tr>\n",
       "    <tr>\n",
       "      <th>2018-10-01</th>\n",
       "      <td>92.1321</td>\n",
       "      <td>111.430852</td>\n",
       "    </tr>\n",
       "    <tr>\n",
       "      <th>2018-11-01</th>\n",
       "      <td>82.4347</td>\n",
       "      <td>113.697147</td>\n",
       "    </tr>\n",
       "    <tr>\n",
       "      <th>2018-12-01</th>\n",
       "      <td>76.7608</td>\n",
       "      <td>125.508559</td>\n",
       "    </tr>\n",
       "    <tr>\n",
       "      <th>2019-01-01</th>\n",
       "      <td>86.9988</td>\n",
       "      <td>140.828547</td>\n",
       "    </tr>\n",
       "    <tr>\n",
       "      <th>2019-02-01</th>\n",
       "      <td>98.1116</td>\n",
       "      <td>153.714779</td>\n",
       "    </tr>\n",
       "    <tr>\n",
       "      <th>2019-03-01</th>\n",
       "      <td>116.1718</td>\n",
       "      <td>163.372037</td>\n",
       "    </tr>\n",
       "    <tr>\n",
       "      <th>2019-04-01</th>\n",
       "      <td>114.9703</td>\n",
       "      <td>169.085589</td>\n",
       "    </tr>\n",
       "    <tr>\n",
       "      <th>2019-05-01</th>\n",
       "      <td>114.5613</td>\n",
       "      <td>171.013185</td>\n",
       "    </tr>\n",
       "    <tr>\n",
       "      <th>2019-06-01</th>\n",
       "      <td>124.9605</td>\n",
       "      <td>165.915581</td>\n",
       "    </tr>\n",
       "    <tr>\n",
       "      <th>2019-07-01</th>\n",
       "      <td>110.2632</td>\n",
       "      <td>155.028107</td>\n",
       "    </tr>\n",
       "    <tr>\n",
       "      <th>2019-08-01</th>\n",
       "      <td>102.6085</td>\n",
       "      <td>141.915489</td>\n",
       "    </tr>\n",
       "    <tr>\n",
       "      <th>2019-09-01</th>\n",
       "      <td>101.5866</td>\n",
       "      <td>131.269458</td>\n",
       "    </tr>\n",
       "  </tbody>\n",
       "</table>\n",
       "</div>"
      ],
      "text/plain": [
       "                  IP  Predictions\n",
       "DATE                             \n",
       "2017-10-01   90.4732   100.940227\n",
       "2017-11-01   77.4378    99.761923\n",
       "2017-12-01   75.8118   103.381028\n",
       "2018-01-01   83.4343   114.155944\n",
       "2018-02-01   99.4899   127.071740\n",
       "2018-03-01  107.3152   136.252951\n",
       "2018-04-01  112.4309   141.697209\n",
       "2018-05-01  110.3544   144.158255\n",
       "2018-06-01  124.5841   141.511157\n",
       "2018-07-01  117.2215   134.532521\n",
       "2018-08-01  112.6779   124.647397\n",
       "2018-09-01  103.3118   115.764529\n",
       "2018-10-01   92.1321   111.430852\n",
       "2018-11-01   82.4347   113.697147\n",
       "2018-12-01   76.7608   125.508559\n",
       "2019-01-01   86.9988   140.828547\n",
       "2019-02-01   98.1116   153.714779\n",
       "2019-03-01  116.1718   163.372037\n",
       "2019-04-01  114.9703   169.085589\n",
       "2019-05-01  114.5613   171.013185\n",
       "2019-06-01  124.9605   165.915581\n",
       "2019-07-01  110.2632   155.028107\n",
       "2019-08-01  102.6085   141.915489\n",
       "2019-09-01  101.5866   131.269458"
      ]
     },
     "execution_count": 20,
     "metadata": {},
     "output_type": "execute_result"
    }
   ],
   "source": [
    "# Let´s add the predictions to the test set\n",
    "\n",
    "test_set[\"Predictions\"] = true_predictions\n",
    "test_set"
   ]
  },
  {
   "cell_type": "code",
   "execution_count": 21,
   "id": "210e5522",
   "metadata": {},
   "outputs": [
    {
     "data": {
      "image/png": "[encoded data removed]",
      "text/plain": [
       "<Figure size 1152x288 with 1 Axes>"
      ]
     },
     "metadata": {
      "needs_background": "light"
     },
     "output_type": "display_data"
    }
   ],
   "source": [
    "# Let´s plot the real values and the predictions\n",
    "\n",
    "test_set.plot(figsize=(16,4));"
   ]
  },
  {
   "cell_type": "code",
   "execution_count": 23,
   "id": "076c0477",
   "metadata": {},
   "outputs": [
    {
     "data": {
      "text/plain": [
       "35.91637427570589"
      ]
     },
     "execution_count": 23,
     "metadata": {},
     "output_type": "execute_result"
    }
   ],
   "source": [
    "# Now let´s calculate RSME\n",
    "\n",
    "from sklearn.metrics import mean_squared_error\n",
    "\n",
    "rmse = np.sqrt(mean_squared_error(y_true=test_set[\"IP\"], y_pred=test_set[\"Predictions\"]))\n",
    "rmse"
   ]
  },
  {
   "cell_type": "code",
   "execution_count": 24,
   "id": "725be766",
   "metadata": {},
   "outputs": [
    {
     "data": {
      "text/html": [
       "<div>\n",
       "<style scoped>\n",
       "    .dataframe tbody tr th:only-of-type {\n",
       "        vertical-align: middle;\n",
       "    }\n",
       "\n",
       "    .dataframe tbody tr th {\n",
       "        vertical-align: top;\n",
       "    }\n",
       "\n",
       "    .dataframe thead th {\n",
       "        text-align: right;\n",
       "    }\n",
       "</style>\n",
       "<table border=\"1\" class=\"dataframe\">\n",
       "  <thead>\n",
       "    <tr style=\"text-align: right;\">\n",
       "      <th></th>\n",
       "      <th>IP</th>\n",
       "    </tr>\n",
       "  </thead>\n",
       "  <tbody>\n",
       "    <tr>\n",
       "      <th>count</th>\n",
       "      <td>573.000000</td>\n",
       "    </tr>\n",
       "    <tr>\n",
       "      <th>mean</th>\n",
       "      <td>109.895545</td>\n",
       "    </tr>\n",
       "    <tr>\n",
       "      <th>std</th>\n",
       "      <td>27.950571</td>\n",
       "    </tr>\n",
       "    <tr>\n",
       "      <th>min</th>\n",
       "      <td>58.659800</td>\n",
       "    </tr>\n",
       "    <tr>\n",
       "      <th>25%</th>\n",
       "      <td>88.935500</td>\n",
       "    </tr>\n",
       "    <tr>\n",
       "      <th>50%</th>\n",
       "      <td>107.643000</td>\n",
       "    </tr>\n",
       "    <tr>\n",
       "      <th>75%</th>\n",
       "      <td>128.277700</td>\n",
       "    </tr>\n",
       "    <tr>\n",
       "      <th>max</th>\n",
       "      <td>196.173700</td>\n",
       "    </tr>\n",
       "  </tbody>\n",
       "</table>\n",
       "</div>"
      ],
      "text/plain": [
       "               IP\n",
       "count  573.000000\n",
       "mean   109.895545\n",
       "std     27.950571\n",
       "min     58.659800\n",
       "25%     88.935500\n",
       "50%    107.643000\n",
       "75%    128.277700\n",
       "max    196.173700"
      ]
     },
     "execution_count": 24,
     "metadata": {},
     "output_type": "execute_result"
    }
   ],
   "source": [
    "ip_df.describe()"
   ]
  },
  {
   "cell_type": "code",
   "execution_count": null,
   "id": "603855fc",
   "metadata": {},
   "outputs": [],
   "source": []
  }
 ],
 "metadata": {
  "kernelspec": {
   "display_name": "Python 3 (ipykernel)",
   "language": "python",
   "name": "python3"
  },
  "language_info": {
   "codemirror_mode": {
    "name": "ipython",
    "version": 3
   },
   "file_extension": ".py",
   "mimetype": "text/x-python",
   "name": "python",
   "nbconvert_exporter": "python",
   "pygments_lexer": "ipython3",
   "version": "3.8.10"
  }
 },
 "nbformat": 4,
 "nbformat_minor": 5
}
